{
 "cells": [
  {
   "cell_type": "code",
   "execution_count": 1,
   "metadata": {},
   "outputs": [],
   "source": [
    "import csv\n",
    "import os"
   ]
  },
  {
   "cell_type": "code",
   "execution_count": 2,
   "metadata": {},
   "outputs": [],
   "source": [
    "from PIL import Image\n",
    "from PIL.ExifTags import TAGS"
   ]
  },
  {
   "cell_type": "code",
   "execution_count": 3,
   "metadata": {},
   "outputs": [],
   "source": [
    "def get_exif(fn):\n",
    "    ret = {}\n",
    "    i = Image.open(fn)\n",
    "    info = i._getexif()\n",
    "    for tag, value in info.items():\n",
    "        decoded = TAGS.get(tag, tag)\n",
    "        ret[decoded] = value\n",
    "    return ret"
   ]
  },
  {
   "cell_type": "code",
   "execution_count": 4,
   "metadata": {},
   "outputs": [],
   "source": [
    "flist = os.listdir()"
   ]
  },
  {
   "cell_type": "code",
   "execution_count": 5,
   "metadata": {},
   "outputs": [],
   "source": [
    "images = []"
   ]
  },
  {
   "cell_type": "code",
   "execution_count": 6,
   "metadata": {},
   "outputs": [],
   "source": [
    "#output CSV filename; You can change the filename in '' here!\n",
    "OUTFILE = 'output.csv'"
   ]
  },
  {
   "cell_type": "code",
   "execution_count": 7,
   "metadata": {},
   "outputs": [],
   "source": [
    "#populate images[] with file paths\n",
    "for file in flist:\n",
    "    if file.endswith('.jpg') or file.endswith('.JPG'):\n",
    "        fpath = os.path.abspath(file)\n",
    "        images.append(fpath)"
   ]
  },
  {
   "cell_type": "code",
   "execution_count": 8,
   "metadata": {},
   "outputs": [],
   "source": [
    "outputFile = open(OUTFILE, 'w', newline='')"
   ]
  },
  {
   "cell_type": "code",
   "execution_count": 9,
   "metadata": {},
   "outputs": [],
   "source": [
    "wrtr = csv.writer(outputFile)"
   ]
  },
  {
   "cell_type": "code",
   "execution_count": 10,
   "metadata": {},
   "outputs": [
    {
     "data": {
      "text/plain": [
       "60"
      ]
     },
     "execution_count": 10,
     "metadata": {},
     "output_type": "execute_result"
    }
   ],
   "source": [
    "wrtr.writerow(['FileName', 'Latitude_DMS', 'Longitude_DMS', 'Altitude_m', 'Altitude_ft'])"
   ]
  },
  {
   "cell_type": "code",
   "execution_count": 11,
   "metadata": {},
   "outputs": [],
   "source": [
    "for image in images:\n",
    "    imInfo = get_exif(image)\n",
    "    fname = os.path.basename(image)\n",
    "    #retrieve GPSInfo from photo metadata; dictionary with sub-tuples \n",
    "    gpsInfo = imInfo['GPSInfo']\n",
    "    #retrieve latitude DMS from GPSInfo from photo\n",
    "    latDeg = float(gpsInfo[2][0][0])/float(gpsInfo[2][0][1])\n",
    "    #make lat degrees negative if in S hemisphere (S of equator)\n",
    "    if gpsInfo[1] == 'S':\n",
    "        latDeg = latDeg*-1.0\n",
    "    latDeg = int(latDeg)\n",
    "    latMin = float(gpsInfo[2][1][0])/float(gpsInfo[2][1][1])\n",
    "    latMin = int(latMin)\n",
    "    latSec = float(gpsInfo[2][2][0])/float(gpsInfo[2][2][1])\n",
    "    #retrieve longitude DMS from GPSInfo from photo\n",
    "    lonDeg = float(gpsInfo[4][0][0])/float(gpsInfo[4][0][1])\n",
    "    #make lon degrees negative is W of prime meridian\n",
    "    if gpsInfo[3] == 'W':\n",
    "        lonDeg = lonDeg*-1.0\n",
    "    lonDeg = int(lonDeg)\n",
    "    lonMin = float(gpsInfo[4][1][0])/float(gpsInfo[4][1][1])\n",
    "    lonMin = int(lonMin)\n",
    "    lonSec = float(gpsInfo[4][2][0])/float(gpsInfo[4][2][1])\n",
    "    lat = str(latDeg)+' '+str(latMin)+' '+str(latSec)\n",
    "    lon = str(lonDeg)+' '+str(lonMin)+' '+str(lonSec)\n",
    "    #retrieve altitude in meters\n",
    "    altM = float(gpsInfo[6][0])/float(gpsInfo[6][1])\n",
    "    altF = altM*3.28084\n",
    "    wrtr.writerow([str(fname),lat,lon,str(altM),str(altF)])"
   ]
  },
  {
   "cell_type": "code",
   "execution_count": 12,
   "metadata": {},
   "outputs": [],
   "source": [
    "outputFile.close()"
   ]
  },
  {
   "cell_type": "code",
   "execution_count": 13,
   "metadata": {},
   "outputs": [
    {
     "name": "stdout",
     "output_type": "stream",
     "text": [
      "All finished! Output written to output.csv\n"
     ]
    }
   ],
   "source": [
    "print('All finished! Output written to '+OUTFILE)"
   ]
  }
 ],
 "metadata": {
  "kernelspec": {
   "display_name": "Python 3",
   "language": "python",
   "name": "python3"
  },
  "language_info": {
   "codemirror_mode": {
    "name": "ipython",
    "version": 3
   },
   "file_extension": ".py",
   "mimetype": "text/x-python",
   "name": "python",
   "nbconvert_exporter": "python",
   "pygments_lexer": "ipython3",
   "version": "3.7.6"
  }
 },
 "nbformat": 4,
 "nbformat_minor": 4
}
