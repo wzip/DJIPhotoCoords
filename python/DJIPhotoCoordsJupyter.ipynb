{
 "cells": [
  {
   "cell_type": "code",
   "execution_count": 1,
   "metadata": {},
   "outputs": [],
   "source": [
    "import csv\n",
    "import os"
   ]
  },
  {
   "cell_type": "code",
   "execution_count": 2,
   "metadata": {},
   "outputs": [],
   "source": [
    "from PIL import Image\n",
    "from PIL.ExifTags import TAGS"
   ]
  },
  {
   "cell_type": "code",
   "execution_count": 3,
   "metadata": {},
   "outputs": [],
   "source": [
    "def get_exif(fn):\n",
    "    ret = {}\n",
    "    i = Image.open(fn)\n",
    "    info = i._getexif()\n",
    "    for tag, value in info.items():\n",
    "        decoded = TAGS.get(tag, tag)\n",
    "        ret[decoded] = value\n",
    "    return ret"
   ]
  },
  {
   "cell_type": "code",
   "execution_count": 4,
   "metadata": {},
   "outputs": [],
   "source": [
    "def dmsToDD(d,m,s):\n",
    "    ret = 0.0\n",
    "    dm = float(m)+float(s/60.0)\n",
    "    dd = float(d)+float(dm/60)\n",
    "    return dd"
   ]
  },
  {
   "cell_type": "code",
   "execution_count": 5,
   "metadata": {},
   "outputs": [],
   "source": [
    "flist = os.listdir()"
   ]
  },
  {
   "cell_type": "code",
   "execution_count": 6,
   "metadata": {},
   "outputs": [],
   "source": [
    "images = []"
   ]
  },
  {
   "cell_type": "code",
   "execution_count": 7,
   "metadata": {},
   "outputs": [],
   "source": [
    "#output CSV filename; You can change the filename in '' here!\n",
    "OUTFILE = 'output.csv'"
   ]
  },
  {
   "cell_type": "code",
   "execution_count": 8,
   "metadata": {},
   "outputs": [],
   "source": [
    "#populate images[] with file paths\n",
    "for file in flist:\n",
    "    if file.endswith('.jpg') or file.endswith('.JPG'):\n",
    "        fpath = os.path.abspath(file)\n",
    "        images.append(fpath)"
   ]
  },
  {
   "cell_type": "code",
   "execution_count": 9,
   "metadata": {},
   "outputs": [],
   "source": [
    "outputFile = open(OUTFILE, 'w', newline='')"
   ]
  },
  {
   "cell_type": "code",
   "execution_count": 10,
   "metadata": {},
   "outputs": [],
   "source": [
    "wrtr = csv.writer(outputFile)"
   ]
  },
  {
   "cell_type": "code",
   "execution_count": 11,
   "metadata": {},
   "outputs": [
    {
     "data": {
      "text/plain": [
       "85"
      ]
     },
     "execution_count": 11,
     "metadata": {},
     "output_type": "execute_result"
    }
   ],
   "source": [
    "wrtr.writerow(['FileName','Latitude_DMS','Longitude_DMS','Latitude_DD','Longitude_DD','Altitude_m','Altitude_ft'])"
   ]
  },
  {
   "cell_type": "code",
   "execution_count": 12,
   "metadata": {},
   "outputs": [],
   "source": [
    "for image in images:\n",
    "    imInfo = get_exif(image)\n",
    "    fname = os.path.basename(image)\n",
    "    #retrieve GPSInfo from photo metadata; dictionary with sub-tuples \n",
    "    gpsInfo = imInfo['GPSInfo']\n",
    "    #retrieve latitude DMS from GPSInfo from photo\n",
    "    latDeg = float(gpsInfo[2][0])\n",
    "    latMin = float(gpsInfo[2][1])\n",
    "    latMinInt = int(latMin)\n",
    "    latSec = float(gpsInfo[2][2])\n",
    "    latDD = dmsToDD(latDeg,latMin,latSec)\n",
    "    #make lat degrees negative if in S hemisphere (S of equator)\n",
    "    if gpsInfo[1] == 'S':\n",
    "        latDeg = latDeg*-1.0\n",
    "        latDD = latDD*-1.0\n",
    "    latDegInt = int(latDeg)\n",
    "    #retrieve longitude DMS from GPSInfo from photo\n",
    "    lonDeg = float(gpsInfo[4][0])\n",
    "    lonMin = float(gpsInfo[4][1])\n",
    "    lonMinInt = int(lonMin)\n",
    "    lonSec = float(gpsInfo[4][2])\n",
    "    lonDD = dmsToDD(lonDeg,lonMin,lonSec)\n",
    "    #make lon degrees negative is W of prime meridian\n",
    "    if gpsInfo[3] == 'W':\n",
    "        lonDeg = lonDeg*-1.0\n",
    "        lonDD = lonDD*-1.0\n",
    "    lonDegInt = int(lonDeg)\n",
    "    latDMS = str(latDegInt)+' '+str(latMinInt)+' '+str(latSec)\n",
    "    lonDMS = str(lonDegInt)+' '+str(lonMinInt)+' '+str(lonSec)\n",
    "    #retrieve altitude in meters\n",
    "    altM = float(gpsInfo[6])\n",
    "    altF = altM*3.28084\n",
    "    wrtr.writerow([str(fname),latDMS,lonDMS,str(latDD),str(lonDD),str(altM),str(altF)])"
   ]
  },
  {
   "cell_type": "code",
   "execution_count": 13,
   "metadata": {},
   "outputs": [],
   "source": [
    "outputFile.close()"
   ]
  },
  {
   "cell_type": "code",
   "execution_count": 14,
   "metadata": {},
   "outputs": [
    {
     "name": "stdout",
     "output_type": "stream",
     "text": [
      "All finished! Output written to output.csv\n"
     ]
    }
   ],
   "source": [
    "print('All finished! Output written to '+OUTFILE)"
   ]
  },
  {
   "cell_type": "code",
   "execution_count": null,
   "metadata": {},
   "outputs": [],
   "source": []
  }
 ],
 "metadata": {
  "kernelspec": {
   "display_name": "Python 3",
   "language": "python",
   "name": "python3"
  },
  "language_info": {
   "codemirror_mode": {
    "name": "ipython",
    "version": 3
   },
   "file_extension": ".py",
   "mimetype": "text/x-python",
   "name": "python",
   "nbconvert_exporter": "python",
   "pygments_lexer": "ipython3",
   "version": "3.7.11"
  }
 },
 "nbformat": 4,
 "nbformat_minor": 4
}
